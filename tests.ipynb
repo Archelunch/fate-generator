{
 "cells": [
  {
   "cell_type": "code",
   "execution_count": 31,
   "id": "92a1468a-8e94-4da9-922a-cad5c8db3732",
   "metadata": {},
   "outputs": [],
   "source": [
    "from pprint import pprint\n",
    "\n",
    "import dspy\n",
    "\n",
    "from app.dspy_modules import CharacterSkeletonModule"
   ]
  },
  {
   "cell_type": "code",
   "execution_count": null,
   "id": "7e448f53-7389-4d3d-9a39-cce97c83b2d8",
   "metadata": {},
   "outputs": [],
   "source": [
    "api_key = \"YOUR_API_KEY\"\n",
    "dspy.settings.configure(lm=dspy.LM(\"gemini/gemini-2.5-flash-lite\", temperature=0.8, api_key=api_key))"
   ]
  },
  {
   "cell_type": "code",
   "execution_count": 7,
   "id": "b8c667a0-5078-494e-9db1-be92f40ca08d",
   "metadata": {},
   "outputs": [],
   "source": [
    "default_skills = [\n",
    "    \"Athletics\",\n",
    "    \"Burglary\",\n",
    "    \"Contacts\",\n",
    "    \"Crafts\",\n",
    "    \"Deceive\",\n",
    "    \"Drive\",\n",
    "    \"Empathy\",\n",
    "    \"Fight\",\n",
    "    \"Investigate\",\n",
    "    \"Lore\",\n",
    "    \"Notice\",\n",
    "    \"Physique\",\n",
    "    \"Provoke\",\n",
    "    \"Rapport\",\n",
    "    \"Resources\",\n",
    "    \"Shoot\",\n",
    "    \"Stealth\",\n",
    "    \"Will\",\n",
    "]"
   ]
  },
  {
   "cell_type": "code",
   "execution_count": 26,
   "id": "031d987e-f086-49c9-8551-16344ccfd4dd",
   "metadata": {},
   "outputs": [],
   "source": [
    "optimised_program = CharacterSkeletonModule()\n",
    "optimised_program.load(\"./artifacts/gepa_character_skeleton.json\")\n",
    "unoptimised_program = CharacterSkeletonModule()"
   ]
  },
  {
   "cell_type": "code",
   "execution_count": 53,
   "id": "6c07e2b0-63dd-43a1-ad0f-f3f8da2e827e",
   "metadata": {},
   "outputs": [],
   "source": [
    "character_prompt = \"\"\"A once-overlooked alchemist with a razor-sharp mind, he masks his brilliance behind a mild, unthreatening exterior.\n",
    "But when desperation strikes, a colder, calculating side emerges—ruthless enough to twist morality in the pursuit of survival and power.\"\"\"\n",
    "setting = \"world war II with magic\""
   ]
  },
  {
   "cell_type": "code",
   "execution_count": 54,
   "id": "4f5773bf-fca5-4902-929d-6e08e9425163",
   "metadata": {},
   "outputs": [
    {
     "data": {
      "text/plain": [
       "Prediction(\n",
       "    high_concept='Brilliant Alchemist, Morally Flexible Survivor',\n",
       "    trouble='His desperate pursuit of arcane knowledge and power puts him at odds with his own conscience and the encroaching horrors of war.',\n",
       "    ranked_skills=['Lore', 'Crafts', 'Deceive', 'Investigate', 'Notice', 'Will', 'Resources', 'Stealth', 'Rapport', 'Empathy', 'Burglary', 'Provoke', 'Shoot', 'Fight', 'Athletics', 'Drive', 'Physique', 'Contacts']\n",
       ")"
      ]
     },
     "execution_count": 54,
     "metadata": {},
     "output_type": "execute_result"
    }
   ],
   "source": [
    "unoptimised_program(idea=character_prompt, skill_list=default_skills, setting=setting)"
   ]
  },
  {
   "cell_type": "code",
   "execution_count": 55,
   "id": "e47de848-f1ef-4985-8a2b-60d7b0058b8f",
   "metadata": {},
   "outputs": [
    {
     "data": {
      "text/plain": [
       "Prediction(\n",
       "    high_concept='The Hypodermic Genius: A seemingly meek alchemist whose ruthless intellect becomes a weapon when the world demands it.',\n",
       "    trouble='My conscience is a luxury I can no longer afford in this war.',\n",
       "    ranked_skills=['Crafts', 'Lore', 'Investigate', 'Deceive', 'Notice', 'Will', 'Empathy', 'Provoke', 'Stealth', 'Physique', 'Athletics', 'Shoot', 'Fight', 'Burglary', 'Rapport', 'Contacts', 'Resources', 'Drive']\n",
       ")"
      ]
     },
     "execution_count": 55,
     "metadata": {},
     "output_type": "execute_result"
    }
   ],
   "source": [
    "optimised_program(idea=character_prompt, skill_list=default_skills, setting=setting)"
   ]
  },
  {
   "cell_type": "markdown",
   "id": "4f097c0c-6e4a-4e12-a252-81f30f20378e",
   "metadata": {},
   "source": [
    "## Unoptimised gemini-2.5-pro"
   ]
  },
  {
   "cell_type": "code",
   "execution_count": 56,
   "id": "22532d03-7473-48be-8046-d3538a95d38e",
   "metadata": {},
   "outputs": [
    {
     "name": "stdout",
     "output_type": "stream",
     "text": [
      "Prediction(\n",
      "    high_concept='Unassuming Alchemical Weapons Specialist',\n",
      "    trouble='My Genius is Only Matched by My Desperation',\n",
      "    ranked_skills=['Crafts', 'Lore', 'Deceive', 'Will', 'Investigate', 'Notice', 'Stealth', 'Resources', 'Shoot', 'Empathy', 'Contacts', 'Provoke', 'Burglary', 'Athletics', 'Drive', 'Fight', 'Rapport', 'Physique']\n",
      ")\n"
     ]
    }
   ],
   "source": [
    "with dspy.context(lm=dspy.LM(\"gemini/gemini-2.5-pro\", api_key=api_key, temperature=0.8)):\n",
    "    pprint(unoptimised_program(idea=character_prompt, skill_list=default_skills, setting=setting))"
   ]
  },
  {
   "cell_type": "markdown",
   "id": "57524726-9f42-4564-928a-e7bbdd487e76",
   "metadata": {},
   "source": [
    "## Optimised gemini-2.5-pro"
   ]
  },
  {
   "cell_type": "code",
   "execution_count": 57,
   "id": "ea9ea902-1257-432f-83a1-8c0564ea4c50",
   "metadata": {},
   "outputs": [
    {
     "name": "stdout",
     "output_type": "stream",
     "text": [
      "Prediction(\n",
      "    high_concept='The Quiet Man Behind the Hex-Gas Canisters',\n",
      "    trouble='My Calculating Mind Sees Allies as Expendable Variables',\n",
      "    ranked_skills=['Crafts', 'Lore', 'Investigate', 'Will', 'Deceive', 'Resources', 'Notice', 'Contacts', 'Shoot', 'Stealth', 'Drive', 'Burglary', 'Athletics', 'Provoke', 'Rapport', 'Empathy', 'Physique', 'Fight']\n",
      ")\n"
     ]
    }
   ],
   "source": [
    "with dspy.context(lm=dspy.LM(\"gemini/gemini-2.5-pro\", api_key=api_key, temperature=0.8)):\n",
    "    pprint(optimised_program(idea=character_prompt, skill_list=default_skills, setting=setting))"
   ]
  }
 ],
 "metadata": {
  "kernelspec": {
   "display_name": "Python 3 (ipykernel)",
   "language": "python",
   "name": "python3"
  },
  "language_info": {
   "codemirror_mode": {
    "name": "ipython",
    "version": 3
   },
   "file_extension": ".py",
   "mimetype": "text/x-python",
   "name": "python",
   "nbconvert_exporter": "python",
   "pygments_lexer": "ipython3",
   "version": "3.12.8"
  }
 },
 "nbformat": 4,
 "nbformat_minor": 5
}
